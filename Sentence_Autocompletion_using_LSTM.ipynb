{
  "cells": [
    {
      "cell_type": "markdown",
      "metadata": {
        "id": "FuKaYBJFZjlt"
      },
      "source": [
        "# LSTM Implementation"
      ]
    },
    {
      "cell_type": "code",
      "source": [
        "!pip install tensorflow"
      ],
      "metadata": {
        "colab": {
          "base_uri": "https://localhost:8080/"
        },
        "id": "nC9rF4ArMvhV",
        "outputId": "d3094d00-79b7-4bf8-8e3f-daf625b3eeab"
      },
      "execution_count": null,
      "outputs": [
        {
          "output_type": "stream",
          "name": "stdout",
          "text": [
            "Collecting tensorflow\n",
            "  Downloading tensorflow-2.19.0-cp311-cp311-manylinux_2_17_x86_64.manylinux2014_x86_64.whl.metadata (4.1 kB)\n",
            "Requirement already satisfied: absl-py>=1.0.0 in /usr/local/lib/python3.11/dist-packages (from tensorflow) (1.4.0)\n",
            "Collecting astunparse>=1.6.0 (from tensorflow)\n",
            "  Downloading astunparse-1.6.3-py2.py3-none-any.whl.metadata (4.4 kB)\n",
            "Collecting flatbuffers>=24.3.25 (from tensorflow)\n",
            "  Downloading flatbuffers-25.2.10-py2.py3-none-any.whl.metadata (875 bytes)\n",
            "Requirement already satisfied: gast!=0.5.0,!=0.5.1,!=0.5.2,>=0.2.1 in /usr/local/lib/python3.11/dist-packages (from tensorflow) (0.6.0)\n",
            "Collecting google-pasta>=0.1.1 (from tensorflow)\n",
            "  Downloading google_pasta-0.2.0-py3-none-any.whl.metadata (814 bytes)\n",
            "Collecting libclang>=13.0.0 (from tensorflow)\n",
            "  Downloading libclang-18.1.1-py2.py3-none-manylinux2010_x86_64.whl.metadata (5.2 kB)\n",
            "Requirement already satisfied: opt-einsum>=2.3.2 in /usr/local/lib/python3.11/dist-packages (from tensorflow) (3.4.0)\n",
            "Requirement already satisfied: packaging in /usr/local/lib/python3.11/dist-packages (from tensorflow) (25.0)\n",
            "Requirement already satisfied: protobuf!=4.21.0,!=4.21.1,!=4.21.2,!=4.21.3,!=4.21.4,!=4.21.5,<6.0.0dev,>=3.20.3 in /usr/local/lib/python3.11/dist-packages (from tensorflow) (5.29.4)\n",
            "Requirement already satisfied: requests<3,>=2.21.0 in /usr/local/lib/python3.11/dist-packages (from tensorflow) (2.32.3)\n",
            "Requirement already satisfied: setuptools in /usr/local/lib/python3.11/dist-packages (from tensorflow) (75.2.0)\n",
            "Requirement already satisfied: six>=1.12.0 in /usr/local/lib/python3.11/dist-packages (from tensorflow) (1.17.0)\n",
            "Requirement already satisfied: termcolor>=1.1.0 in /usr/local/lib/python3.11/dist-packages (from tensorflow) (3.1.0)\n",
            "Requirement already satisfied: typing-extensions>=3.6.6 in /usr/local/lib/python3.11/dist-packages (from tensorflow) (4.13.2)\n",
            "Requirement already satisfied: wrapt>=1.11.0 in /usr/local/lib/python3.11/dist-packages (from tensorflow) (1.17.2)\n",
            "Requirement already satisfied: grpcio<2.0,>=1.24.3 in /usr/local/lib/python3.11/dist-packages (from tensorflow) (1.71.0)\n",
            "Collecting tensorboard~=2.19.0 (from tensorflow)\n",
            "  Downloading tensorboard-2.19.0-py3-none-any.whl.metadata (1.8 kB)\n",
            "Requirement already satisfied: keras>=3.5.0 in /usr/local/lib/python3.11/dist-packages (from tensorflow) (3.8.0)\n",
            "Requirement already satisfied: numpy<2.2.0,>=1.26.0 in /usr/local/lib/python3.11/dist-packages (from tensorflow) (2.0.2)\n",
            "Requirement already satisfied: h5py>=3.11.0 in /usr/local/lib/python3.11/dist-packages (from tensorflow) (3.13.0)\n",
            "Requirement already satisfied: ml-dtypes<1.0.0,>=0.5.1 in /usr/local/lib/python3.11/dist-packages (from tensorflow) (0.5.1)\n",
            "Collecting tensorflow-io-gcs-filesystem>=0.23.1 (from tensorflow)\n",
            "  Downloading tensorflow_io_gcs_filesystem-0.37.1-cp311-cp311-manylinux_2_17_x86_64.manylinux2014_x86_64.whl.metadata (14 kB)\n",
            "Collecting wheel<1.0,>=0.23.0 (from astunparse>=1.6.0->tensorflow)\n",
            "  Downloading wheel-0.45.1-py3-none-any.whl.metadata (2.3 kB)\n",
            "Requirement already satisfied: rich in /usr/local/lib/python3.11/dist-packages (from keras>=3.5.0->tensorflow) (14.0.0)\n",
            "Requirement already satisfied: namex in /usr/local/lib/python3.11/dist-packages (from keras>=3.5.0->tensorflow) (0.0.9)\n",
            "Requirement already satisfied: optree in /usr/local/lib/python3.11/dist-packages (from keras>=3.5.0->tensorflow) (0.15.0)\n",
            "Requirement already satisfied: charset-normalizer<4,>=2 in /usr/local/lib/python3.11/dist-packages (from requests<3,>=2.21.0->tensorflow) (3.4.1)\n",
            "Requirement already satisfied: idna<4,>=2.5 in /usr/local/lib/python3.11/dist-packages (from requests<3,>=2.21.0->tensorflow) (3.10)\n",
            "Requirement already satisfied: urllib3<3,>=1.21.1 in /usr/local/lib/python3.11/dist-packages (from requests<3,>=2.21.0->tensorflow) (2.4.0)\n",
            "Requirement already satisfied: certifi>=2017.4.17 in /usr/local/lib/python3.11/dist-packages (from requests<3,>=2.21.0->tensorflow) (2025.4.26)\n",
            "Requirement already satisfied: markdown>=2.6.8 in /usr/lib/python3/dist-packages (from tensorboard~=2.19.0->tensorflow) (3.3.6)\n",
            "Collecting tensorboard-data-server<0.8.0,>=0.7.0 (from tensorboard~=2.19.0->tensorflow)\n",
            "  Downloading tensorboard_data_server-0.7.2-py3-none-manylinux_2_31_x86_64.whl.metadata (1.1 kB)\n",
            "Collecting werkzeug>=1.0.1 (from tensorboard~=2.19.0->tensorflow)\n",
            "  Downloading werkzeug-3.1.3-py3-none-any.whl.metadata (3.7 kB)\n",
            "Requirement already satisfied: MarkupSafe>=2.1.1 in /usr/local/lib/python3.11/dist-packages (from werkzeug>=1.0.1->tensorboard~=2.19.0->tensorflow) (3.0.2)\n",
            "Requirement already satisfied: markdown-it-py>=2.2.0 in /usr/local/lib/python3.11/dist-packages (from rich->keras>=3.5.0->tensorflow) (3.0.0)\n",
            "Requirement already satisfied: pygments<3.0.0,>=2.13.0 in /usr/local/lib/python3.11/dist-packages (from rich->keras>=3.5.0->tensorflow) (2.19.1)\n",
            "Requirement already satisfied: mdurl~=0.1 in /usr/local/lib/python3.11/dist-packages (from markdown-it-py>=2.2.0->rich->keras>=3.5.0->tensorflow) (0.1.2)\n",
            "Downloading tensorflow-2.19.0-cp311-cp311-manylinux_2_17_x86_64.manylinux2014_x86_64.whl (644.9 MB)\n",
            "\u001b[2K   \u001b[90m━━━━━━━━━━━━━━━━━━━━━━━━━━━━━━━━━━━━━━━━\u001b[0m \u001b[32m644.9/644.9 MB\u001b[0m \u001b[31m1.5 MB/s\u001b[0m eta \u001b[36m0:00:00\u001b[0m\n",
            "\u001b[?25hDownloading astunparse-1.6.3-py2.py3-none-any.whl (12 kB)\n",
            "Downloading flatbuffers-25.2.10-py2.py3-none-any.whl (30 kB)\n",
            "Downloading google_pasta-0.2.0-py3-none-any.whl (57 kB)\n",
            "\u001b[2K   \u001b[90m━━━━━━━━━━━━━━━━━━━━━━━━━━━━━━━━━━━━━━━━\u001b[0m \u001b[32m57.5/57.5 kB\u001b[0m \u001b[31m6.1 MB/s\u001b[0m eta \u001b[36m0:00:00\u001b[0m\n",
            "\u001b[?25hDownloading libclang-18.1.1-py2.py3-none-manylinux2010_x86_64.whl (24.5 MB)\n",
            "\u001b[2K   \u001b[90m━━━━━━━━━━━━━━━━━━━━━━━━━━━━━━━━━━━━━━━━\u001b[0m \u001b[32m24.5/24.5 MB\u001b[0m \u001b[31m83.4 MB/s\u001b[0m eta \u001b[36m0:00:00\u001b[0m\n",
            "\u001b[?25hDownloading tensorboard-2.19.0-py3-none-any.whl (5.5 MB)\n",
            "\u001b[2K   \u001b[90m━━━━━━━━━━━━━━━━━━━━━━━━━━━━━━━━━━━━━━━━\u001b[0m \u001b[32m5.5/5.5 MB\u001b[0m \u001b[31m117.2 MB/s\u001b[0m eta \u001b[36m0:00:00\u001b[0m\n",
            "\u001b[?25hDownloading tensorflow_io_gcs_filesystem-0.37.1-cp311-cp311-manylinux_2_17_x86_64.manylinux2014_x86_64.whl (5.1 MB)\n",
            "\u001b[2K   \u001b[90m━━━━━━━━━━━━━━━━━━━━━━━━━━━━━━━━━━━━━━━━\u001b[0m \u001b[32m5.1/5.1 MB\u001b[0m \u001b[31m114.2 MB/s\u001b[0m eta \u001b[36m0:00:00\u001b[0m\n",
            "\u001b[?25hDownloading tensorboard_data_server-0.7.2-py3-none-manylinux_2_31_x86_64.whl (6.6 MB)\n",
            "\u001b[2K   \u001b[90m━━━━━━━━━━━━━━━━━━━━━━━━━━━━━━━━━━━━━━━━\u001b[0m \u001b[32m6.6/6.6 MB\u001b[0m \u001b[31m107.9 MB/s\u001b[0m eta \u001b[36m0:00:00\u001b[0m\n",
            "\u001b[?25hDownloading werkzeug-3.1.3-py3-none-any.whl (224 kB)\n",
            "\u001b[2K   \u001b[90m━━━━━━━━━━━━━━━━━━━━━━━━━━━━━━━━━━━━━━━━\u001b[0m \u001b[32m224.5/224.5 kB\u001b[0m \u001b[31m17.2 MB/s\u001b[0m eta \u001b[36m0:00:00\u001b[0m\n",
            "\u001b[?25hDownloading wheel-0.45.1-py3-none-any.whl (72 kB)\n",
            "\u001b[2K   \u001b[90m━━━━━━━━━━━━━━━━━━━━━━━━━━━━━━━━━━━━━━━━\u001b[0m \u001b[32m72.5/72.5 kB\u001b[0m \u001b[31m5.4 MB/s\u001b[0m eta \u001b[36m0:00:00\u001b[0m\n",
            "\u001b[?25hInstalling collected packages: libclang, flatbuffers, wheel, werkzeug, tensorflow-io-gcs-filesystem, tensorboard-data-server, google-pasta, tensorboard, astunparse, tensorflow\n",
            "Successfully installed astunparse-1.6.3 flatbuffers-25.2.10 google-pasta-0.2.0 libclang-18.1.1 tensorboard-2.19.0 tensorboard-data-server-0.7.2 tensorflow-2.19.0 tensorflow-io-gcs-filesystem-0.37.1 werkzeug-3.1.3 wheel-0.45.1\n"
          ]
        }
      ]
    },
    {
      "cell_type": "markdown",
      "metadata": {
        "id": "jAWOZ-NsZjlv"
      },
      "source": [
        "# **Text Preprocessing**"
      ]
    },
    {
      "cell_type": "code",
      "execution_count": null,
      "metadata": {
        "id": "yy6ASwDbZjlv"
      },
      "outputs": [],
      "source": [
        "import numpy as np\n",
        "import tensorflow as tf\n",
        "from tensorflow.keras.preprocessing.text import Tokenizer\n",
        "from tensorflow.keras.preprocessing.sequence import pad_sequences\n",
        "from tensorflow.keras.models import Sequential\n",
        "from tensorflow.keras.layers import Embedding, LSTM, Dense, Bidirectional, Dropout\n",
        "from tensorflow.keras.optimizers import Adam\n",
        "import re"
      ]
    },
    {
      "cell_type": "code",
      "execution_count": null,
      "metadata": {
        "id": "flogAO5tZjlw",
        "colab": {
          "base_uri": "https://localhost:8080/"
        },
        "outputId": "ca4e6a63-dfb0-49ab-f8cc-68c343ebf53e"
      },
      "outputs": [
        {
          "output_type": "stream",
          "name": "stdout",
          "text": [
            "Data loaded successfully!\n",
            "Preview of the first 100 characters:\n",
            "*Project Gutenberg's Etext of Tom Swift And His Submarine Boat*\n",
            "\n",
            "#4 in the Victor Appleton's Tom Swi\n"
          ]
        }
      ],
      "source": [
        "# Specify the filename\n",
        "input_file = '/content/drive/MyDrive/AI/holmes.txt'\n",
        "\n",
        "# Read the contents of the file\n",
        "try:\n",
        "    with open(input_file, 'r', encoding='utf-8') as infile:\n",
        "        data = infile.read()\n",
        "    print(\"Data loaded successfully!\")\n",
        "    print(f\"Preview of the first 100 characters:\\n{data[:100]}\")\n",
        "except Exception as e:\n",
        "    print(f\"Error loading data: {e}\")"
      ]
    },
    {
      "cell_type": "code",
      "execution_count": null,
      "metadata": {
        "colab": {
          "base_uri": "https://localhost:8080/",
          "height": 36
        },
        "id": "Pope-dNvZjlw",
        "outputId": "3d2c052c-58da-4994-85d4-14f6a70ca924"
      },
      "outputs": [
        {
          "output_type": "execute_result",
          "data": {
            "text/plain": [
              "\"*Project Gutenberg's Etext of Tom Swift And His Submarine Boat*\\n\\n#4 in the Victor Appleton's Tom Swi\""
            ],
            "application/vnd.google.colaboratory.intrinsic+json": {
              "type": "string"
            }
          },
          "metadata": {},
          "execution_count": 3
        }
      ],
      "source": [
        "data[:100] # view first few characters"
      ]
    },
    {
      "cell_type": "code",
      "source": [
        "from google.colab import drive\n",
        "drive.mount('/content/drive')"
      ],
      "metadata": {
        "colab": {
          "base_uri": "https://localhost:8080/"
        },
        "id": "tiEi1y8G1g7t",
        "outputId": "e8267f7f-f07c-48b8-eaa9-9f70e98e60b7"
      },
      "execution_count": null,
      "outputs": [
        {
          "output_type": "stream",
          "name": "stdout",
          "text": [
            "Mounted at /content/drive\n"
          ]
        }
      ]
    },
    {
      "cell_type": "code",
      "execution_count": null,
      "metadata": {
        "id": "DUNipNLSZjlw",
        "colab": {
          "base_uri": "https://localhost:8080/"
        },
        "outputId": "16861706-5557-4413-db1a-2f39d3581604"
      },
      "outputs": [
        {
          "output_type": "stream",
          "name": "stdout",
          "text": [
            "Using 400000 characters for training\n"
          ]
        }
      ],
      "source": [
        "# Limit data to 400000 characters\n",
        "data = data[:400000]\n",
        "print(f\"Using {len(data)} characters for training\")"
      ]
    },
    {
      "cell_type": "markdown",
      "metadata": {
        "id": "yDJ6sqkEZjlx"
      },
      "source": [
        "# Clean Text"
      ]
    },
    {
      "cell_type": "code",
      "execution_count": null,
      "metadata": {
        "id": "nFQaz0-OZjlx",
        "colab": {
          "base_uri": "https://localhost:8080/"
        },
        "outputId": "d19746d9-5b83-441b-d3ee-20d4e560305a"
      },
      "outputs": [
        {
          "output_type": "stream",
          "name": "stdout",
          "text": [
            "Cleaned text sample: project gutenbergs etext of tom swift and his submarine boat 4 in the victor appletons tom swift ser\n",
            "Created 5768 sentences\n"
          ]
        }
      ],
      "source": [
        "def clean_text(text):\n",
        "    # Convert to lowercase\n",
        "    text = text.lower()\n",
        "    # Remove special characters but keep spaces and basic punctuation\n",
        "    text = re.sub(r'[^\\w\\s\\.,!?]', '', text)\n",
        "    # Replace multiple spaces with single space\n",
        "    text = re.sub(r'\\s+', ' ', text)\n",
        "    return text\n",
        "\n",
        "# Clean the text\n",
        "cleaned_text = clean_text(data)\n",
        "print(f\"Cleaned text sample: {cleaned_text[:100]}\")\n",
        "\n",
        "# Split into sentences - simpler approach\n",
        "sentences = re.split(r'(?<=[.!?])\\s+', cleaned_text)\n",
        "sentences = [s.strip() for s in sentences if len(s) > 5]  # Keep only sentences with length > 5\n",
        "print(f\"Created {len(sentences)} sentences\")"
      ]
    },
    {
      "cell_type": "code",
      "execution_count": null,
      "metadata": {
        "id": "FFnbndscZjlx",
        "colab": {
          "base_uri": "https://localhost:8080/"
        },
        "outputId": "7e36a9da-f8a7-4b44-d250-b47f91263074"
      },
      "outputs": [
        {
          "output_type": "stream",
          "name": "stdout",
          "text": [
            "Total unique words: 5469\n",
            "Total sequences created: 65300\n",
            "Using max sequence length: 20\n",
            "Input shape: (65300, 20)\n"
          ]
        }
      ],
      "source": [
        "\"\"\"\n",
        "What is an OOV Token?\n",
        "An out-of-vocabulary (OOV) token is a special token used in natural language processing (NLP) tasks to represent words that\n",
        "are not present in the vocabulary of the model or tokenizer. When a word that is not in the vocabulary is encountered during\n",
        "tokenization or text processing, it is replaced with the OOV token.\n",
        "\n",
        "Why Use an OOV Token?\n",
        "Using an OOV token helps handle unseen or unknown words during the training or inference phase of an NLP model.\n",
        "Instead of encountering errors or issues when encountering unknown words, the model can gracefully handle them by\n",
        "representing them with the OOV token. This is particularly useful when working with real-world data where the vocabulary\n",
        "of the model may not cover all possible words.\n",
        "\"\"\"\n",
        "# Tokenize words\n",
        "tokenizer = Tokenizer(oov_token='<OOV>')\n",
        "tokenizer.fit_on_texts(sentences)\n",
        "total_words = len(tokenizer.word_index) + 1\n",
        "print(f\"Total unique words: {total_words}\")\n",
        "\n",
        "# tokenizer.word_counts\n",
        "# tokenizer.word_index\n",
        "\"\"\"\n",
        "n_gram example:\n",
        "[3, 15, 8, 7, 20, 12, 6]\n",
        "\n",
        "For the above sentece sentence, the code would generate the following n-gram sequences:\n",
        "\n",
        "[3, 15]\n",
        "[3, 15, 8]\n",
        "[3, 15, 8, 7]\n",
        "[3, 15, 8, 7, 20]\n",
        "[3, 15, 8, 7, 20, 12]\n",
        "[3, 15, 8, 7, 20, 12, 6]\n",
        "\"\"\"\n",
        "\n",
        "# Generate input sequences\n",
        "input_sequences = []\n",
        "for sentence in sentences:\n",
        "    token_list = tokenizer.texts_to_sequences([sentence])[0]\n",
        "    # Create n-grams starting from 2 words context\n",
        "    for i in range(1, len(token_list)):\n",
        "        n_gram_sequence = token_list[:i+1]\n",
        "        input_sequences.append(n_gram_sequence)\n",
        "\n",
        "print(f\"Total sequences created: {len(input_sequences)}\")\n",
        "\n",
        "# Find max sequence length\n",
        "max_sequence_len = min(20, max([len(x) for x in input_sequences]))\n",
        "print(f\"Using max sequence length: {max_sequence_len}\")\n",
        "\n",
        "# Pad sequences\n",
        "input_sequences = pad_sequences(input_sequences, maxlen=max_sequence_len, padding='pre')\n",
        "print(f\"Input shape: {input_sequences.shape}\")"
      ]
    },
    {
      "cell_type": "code",
      "execution_count": null,
      "metadata": {
        "id": "KbgARYAJZjlx",
        "colab": {
          "base_uri": "https://localhost:8080/"
        },
        "outputId": "5eaa89e6-25fe-49ba-f99a-73a6b2fadacf"
      },
      "outputs": [
        {
          "output_type": "stream",
          "name": "stdout",
          "text": [
            "X shape: (65300, 19), y shape: (65300, 5469)\n"
          ]
        }
      ],
      "source": [
        "# Prepare X (input) and y (target)\n",
        "X, labels = input_sequences[:,:-1], input_sequences[:,-1]\n",
        "y = tf.keras.utils.to_categorical(labels, num_classes=total_words)\n",
        "print(f\"X shape: {X.shape}, y shape: {y.shape}\")"
      ]
    },
    {
      "cell_type": "code",
      "execution_count": null,
      "metadata": {
        "execution": {
          "iopub.execute_input": "2024-04-11T05:32:13.168190Z",
          "iopub.status.busy": "2024-04-11T05:32:13.167751Z",
          "iopub.status.idle": "2024-04-11T05:32:20.041506Z",
          "shell.execute_reply": "2024-04-11T05:32:20.040383Z",
          "shell.execute_reply.started": "2024-04-11T05:32:13.168137Z"
        },
        "id": "UFqAgun5Zjly",
        "colab": {
          "base_uri": "https://localhost:8080/"
        },
        "outputId": "d8e3ac8d-9a7f-47e8-babc-eeba02793dca"
      },
      "outputs": [
        {
          "output_type": "stream",
          "name": "stdout",
          "text": [
            "Training set: (52240, 19), Validation set: (13060, 19)\n"
          ]
        }
      ],
      "source": [
        "from sklearn.model_selection import train_test_split\n",
        "\n",
        "# Simple split without using sklearn to reduce dependencies\n",
        "split = int(0.8 * len(X))\n",
        "X_train, X_val = X[:split], X[split:]\n",
        "y_train, y_val = y[:split], y[split:]\n",
        "print(f\"Training set: {X_train.shape}, Validation set: {X_val.shape}\")"
      ]
    },
    {
      "cell_type": "markdown",
      "metadata": {
        "id": "TZYH1ISUZjly"
      },
      "source": [
        "# Train LSTM Model"
      ]
    },
    {
      "cell_type": "code",
      "execution_count": null,
      "metadata": {
        "execution": {
          "iopub.execute_input": "2024-04-11T06:50:19.346868Z",
          "iopub.status.busy": "2024-04-11T06:50:19.345839Z",
          "iopub.status.idle": "2024-04-11T07:17:23.071736Z",
          "shell.execute_reply": "2024-04-11T07:17:23.070573Z",
          "shell.execute_reply.started": "2024-04-11T06:50:19.346830Z"
        },
        "colab": {
          "base_uri": "https://localhost:8080/",
          "height": 385
        },
        "id": "TOXPsUbwZjly",
        "outputId": "2188934f-f940-40a9-ec1f-dd9453946e69"
      },
      "outputs": [
        {
          "output_type": "display_data",
          "data": {
            "text/plain": [
              "\u001b[1mModel: \"sequential_9\"\u001b[0m\n"
            ],
            "text/html": [
              "<pre style=\"white-space:pre;overflow-x:auto;line-height:normal;font-family:Menlo,'DejaVu Sans Mono',consolas,'Courier New',monospace\"><span style=\"font-weight: bold\">Model: \"sequential_9\"</span>\n",
              "</pre>\n"
            ]
          },
          "metadata": {}
        },
        {
          "output_type": "display_data",
          "data": {
            "text/plain": [
              "┏━━━━━━━━━━━━━━━━━━━━━━━━━━━━━━━━━┳━━━━━━━━━━━━━━━━━━━━━━━━┳━━━━━━━━━━━━━━━┓\n",
              "┃\u001b[1m \u001b[0m\u001b[1mLayer (type)                   \u001b[0m\u001b[1m \u001b[0m┃\u001b[1m \u001b[0m\u001b[1mOutput Shape          \u001b[0m\u001b[1m \u001b[0m┃\u001b[1m \u001b[0m\u001b[1m      Param #\u001b[0m\u001b[1m \u001b[0m┃\n",
              "┡━━━━━━━━━━━━━━━━━━━━━━━━━━━━━━━━━╇━━━━━━━━━━━━━━━━━━━━━━━━╇━━━━━━━━━━━━━━━┩\n",
              "│ embedding_9 (\u001b[38;5;33mEmbedding\u001b[0m)         │ (\u001b[38;5;45mNone\u001b[0m, \u001b[38;5;34m19\u001b[0m, \u001b[38;5;34m128\u001b[0m)        │       \u001b[38;5;34m700,032\u001b[0m │\n",
              "├─────────────────────────────────┼────────────────────────┼───────────────┤\n",
              "│ bidirectional_11                │ (\u001b[38;5;45mNone\u001b[0m, \u001b[38;5;34m19\u001b[0m, \u001b[38;5;34m256\u001b[0m)        │       \u001b[38;5;34m263,168\u001b[0m │\n",
              "│ (\u001b[38;5;33mBidirectional\u001b[0m)                 │                        │               │\n",
              "├─────────────────────────────────┼────────────────────────┼───────────────┤\n",
              "│ dropout_10 (\u001b[38;5;33mDropout\u001b[0m)            │ (\u001b[38;5;45mNone\u001b[0m, \u001b[38;5;34m19\u001b[0m, \u001b[38;5;34m256\u001b[0m)        │             \u001b[38;5;34m0\u001b[0m │\n",
              "├─────────────────────────────────┼────────────────────────┼───────────────┤\n",
              "│ bidirectional_12                │ (\u001b[38;5;45mNone\u001b[0m, \u001b[38;5;34m128\u001b[0m)            │       \u001b[38;5;34m164,352\u001b[0m │\n",
              "│ (\u001b[38;5;33mBidirectional\u001b[0m)                 │                        │               │\n",
              "├─────────────────────────────────┼────────────────────────┼───────────────┤\n",
              "│ dropout_11 (\u001b[38;5;33mDropout\u001b[0m)            │ (\u001b[38;5;45mNone\u001b[0m, \u001b[38;5;34m128\u001b[0m)            │             \u001b[38;5;34m0\u001b[0m │\n",
              "├─────────────────────────────────┼────────────────────────┼───────────────┤\n",
              "│ dense_9 (\u001b[38;5;33mDense\u001b[0m)                 │ (\u001b[38;5;45mNone\u001b[0m, \u001b[38;5;34m2734\u001b[0m)           │       \u001b[38;5;34m352,686\u001b[0m │\n",
              "├─────────────────────────────────┼────────────────────────┼───────────────┤\n",
              "│ dense_10 (\u001b[38;5;33mDense\u001b[0m)                │ (\u001b[38;5;45mNone\u001b[0m, \u001b[38;5;34m5469\u001b[0m)           │    \u001b[38;5;34m14,957,715\u001b[0m │\n",
              "└─────────────────────────────────┴────────────────────────┴───────────────┘\n"
            ],
            "text/html": [
              "<pre style=\"white-space:pre;overflow-x:auto;line-height:normal;font-family:Menlo,'DejaVu Sans Mono',consolas,'Courier New',monospace\">┏━━━━━━━━━━━━━━━━━━━━━━━━━━━━━━━━━┳━━━━━━━━━━━━━━━━━━━━━━━━┳━━━━━━━━━━━━━━━┓\n",
              "┃<span style=\"font-weight: bold\"> Layer (type)                    </span>┃<span style=\"font-weight: bold\"> Output Shape           </span>┃<span style=\"font-weight: bold\">       Param # </span>┃\n",
              "┡━━━━━━━━━━━━━━━━━━━━━━━━━━━━━━━━━╇━━━━━━━━━━━━━━━━━━━━━━━━╇━━━━━━━━━━━━━━━┩\n",
              "│ embedding_9 (<span style=\"color: #0087ff; text-decoration-color: #0087ff\">Embedding</span>)         │ (<span style=\"color: #00d7ff; text-decoration-color: #00d7ff\">None</span>, <span style=\"color: #00af00; text-decoration-color: #00af00\">19</span>, <span style=\"color: #00af00; text-decoration-color: #00af00\">128</span>)        │       <span style=\"color: #00af00; text-decoration-color: #00af00\">700,032</span> │\n",
              "├─────────────────────────────────┼────────────────────────┼───────────────┤\n",
              "│ bidirectional_11                │ (<span style=\"color: #00d7ff; text-decoration-color: #00d7ff\">None</span>, <span style=\"color: #00af00; text-decoration-color: #00af00\">19</span>, <span style=\"color: #00af00; text-decoration-color: #00af00\">256</span>)        │       <span style=\"color: #00af00; text-decoration-color: #00af00\">263,168</span> │\n",
              "│ (<span style=\"color: #0087ff; text-decoration-color: #0087ff\">Bidirectional</span>)                 │                        │               │\n",
              "├─────────────────────────────────┼────────────────────────┼───────────────┤\n",
              "│ dropout_10 (<span style=\"color: #0087ff; text-decoration-color: #0087ff\">Dropout</span>)            │ (<span style=\"color: #00d7ff; text-decoration-color: #00d7ff\">None</span>, <span style=\"color: #00af00; text-decoration-color: #00af00\">19</span>, <span style=\"color: #00af00; text-decoration-color: #00af00\">256</span>)        │             <span style=\"color: #00af00; text-decoration-color: #00af00\">0</span> │\n",
              "├─────────────────────────────────┼────────────────────────┼───────────────┤\n",
              "│ bidirectional_12                │ (<span style=\"color: #00d7ff; text-decoration-color: #00d7ff\">None</span>, <span style=\"color: #00af00; text-decoration-color: #00af00\">128</span>)            │       <span style=\"color: #00af00; text-decoration-color: #00af00\">164,352</span> │\n",
              "│ (<span style=\"color: #0087ff; text-decoration-color: #0087ff\">Bidirectional</span>)                 │                        │               │\n",
              "├─────────────────────────────────┼────────────────────────┼───────────────┤\n",
              "│ dropout_11 (<span style=\"color: #0087ff; text-decoration-color: #0087ff\">Dropout</span>)            │ (<span style=\"color: #00d7ff; text-decoration-color: #00d7ff\">None</span>, <span style=\"color: #00af00; text-decoration-color: #00af00\">128</span>)            │             <span style=\"color: #00af00; text-decoration-color: #00af00\">0</span> │\n",
              "├─────────────────────────────────┼────────────────────────┼───────────────┤\n",
              "│ dense_9 (<span style=\"color: #0087ff; text-decoration-color: #0087ff\">Dense</span>)                 │ (<span style=\"color: #00d7ff; text-decoration-color: #00d7ff\">None</span>, <span style=\"color: #00af00; text-decoration-color: #00af00\">2734</span>)           │       <span style=\"color: #00af00; text-decoration-color: #00af00\">352,686</span> │\n",
              "├─────────────────────────────────┼────────────────────────┼───────────────┤\n",
              "│ dense_10 (<span style=\"color: #0087ff; text-decoration-color: #0087ff\">Dense</span>)                │ (<span style=\"color: #00d7ff; text-decoration-color: #00d7ff\">None</span>, <span style=\"color: #00af00; text-decoration-color: #00af00\">5469</span>)           │    <span style=\"color: #00af00; text-decoration-color: #00af00\">14,957,715</span> │\n",
              "└─────────────────────────────────┴────────────────────────┴───────────────┘\n",
              "</pre>\n"
            ]
          },
          "metadata": {}
        },
        {
          "output_type": "display_data",
          "data": {
            "text/plain": [
              "\u001b[1m Total params: \u001b[0m\u001b[38;5;34m16,437,953\u001b[0m (62.71 MB)\n"
            ],
            "text/html": [
              "<pre style=\"white-space:pre;overflow-x:auto;line-height:normal;font-family:Menlo,'DejaVu Sans Mono',consolas,'Courier New',monospace\"><span style=\"font-weight: bold\"> Total params: </span><span style=\"color: #00af00; text-decoration-color: #00af00\">16,437,953</span> (62.71 MB)\n",
              "</pre>\n"
            ]
          },
          "metadata": {}
        },
        {
          "output_type": "display_data",
          "data": {
            "text/plain": [
              "\u001b[1m Trainable params: \u001b[0m\u001b[38;5;34m16,437,953\u001b[0m (62.71 MB)\n"
            ],
            "text/html": [
              "<pre style=\"white-space:pre;overflow-x:auto;line-height:normal;font-family:Menlo,'DejaVu Sans Mono',consolas,'Courier New',monospace\"><span style=\"font-weight: bold\"> Trainable params: </span><span style=\"color: #00af00; text-decoration-color: #00af00\">16,437,953</span> (62.71 MB)\n",
              "</pre>\n"
            ]
          },
          "metadata": {}
        },
        {
          "output_type": "display_data",
          "data": {
            "text/plain": [
              "\u001b[1m Non-trainable params: \u001b[0m\u001b[38;5;34m0\u001b[0m (0.00 B)\n"
            ],
            "text/html": [
              "<pre style=\"white-space:pre;overflow-x:auto;line-height:normal;font-family:Menlo,'DejaVu Sans Mono',consolas,'Courier New',monospace\"><span style=\"font-weight: bold\"> Non-trainable params: </span><span style=\"color: #00af00; text-decoration-color: #00af00\">0</span> (0.00 B)\n",
              "</pre>\n"
            ]
          },
          "metadata": {}
        }
      ],
      "source": [
        "# Define your model\n",
        "model = Sequential()\n",
        "model.add(Embedding(total_words, 128, input_length=max_sequence_len-1))\n",
        "model.add(Bidirectional(LSTM(128, return_sequences=True)))  # Add return_sequences=True\n",
        "model.add(Dropout(0.3))\n",
        "model.add(Bidirectional(LSTM(64)))  # Add a second LSTM layer\n",
        "model.add(Dropout(0.3))\n",
        "model.add(Dense(total_words//2, activation='relu'))  # Add intermediate layer\n",
        "model.add(Dense(total_words, activation='softmax'))\n",
        "\n",
        "model.build(input_shape=(None, max_sequence_len-1))\n",
        "model.summary()\n",
        "\n",
        "adam = Adam(learning_rate=0.001)\n",
        "model.compile(loss='categorical_crossentropy', optimizer=adam, metrics=['accuracy'])"
      ]
    },
    {
      "cell_type": "code",
      "source": [
        "# Add early stopping to prevent overtraining\n",
        "early_stopping = tf.keras.callbacks.EarlyStopping(\n",
        "    monitor='val_loss',\n",
        "    patience=5,\n",
        "    restore_best_weights=True\n",
        ")\n",
        "\n",
        "reduce_lr = tf.keras.callbacks.ReduceLROnPlateau(\n",
        "    monitor='val_loss',\n",
        "    factor=0.5,\n",
        "    patience=2,\n",
        "    min_lr=0.0001\n",
        ")\n",
        "\n",
        "# Train with smaller batch size to reduce memory usage\n",
        "history = model.fit(\n",
        "    X_train, y_train,\n",
        "    epochs=30,\n",
        "    batch_size=32,\n",
        "    validation_data=(X_val, y_val),\n",
        "    callbacks=[early_stopping],\n",
        "    verbose=1\n",
        ")"
      ],
      "metadata": {
        "colab": {
          "base_uri": "https://localhost:8080/"
        },
        "id": "DzNz7PoEXLmz",
        "outputId": "a0a48409-0a7c-4c5d-a19a-4d78e16fab95"
      },
      "execution_count": null,
      "outputs": [
        {
          "output_type": "stream",
          "name": "stdout",
          "text": [
            "Epoch 1/30\n",
            "\u001b[1m1633/1633\u001b[0m \u001b[32m━━━━━━━━━━━━━━━━━━━━\u001b[0m\u001b[37m\u001b[0m \u001b[1m37s\u001b[0m 23ms/step - accuracy: 0.1389 - loss: 5.2088 - val_accuracy: 0.1175 - val_loss: 6.2978\n",
            "Epoch 2/30\n",
            "\u001b[1m1633/1633\u001b[0m \u001b[32m━━━━━━━━━━━━━━━━━━━━\u001b[0m\u001b[37m\u001b[0m \u001b[1m40s\u001b[0m 22ms/step - accuracy: 0.1459 - loss: 4.9731 - val_accuracy: 0.1249 - val_loss: 6.3921\n",
            "Epoch 3/30\n",
            "\u001b[1m1633/1633\u001b[0m \u001b[32m━━━━━━━━━━━━━━━━━━━━\u001b[0m\u001b[37m\u001b[0m \u001b[1m41s\u001b[0m 22ms/step - accuracy: 0.1579 - loss: 4.7627 - val_accuracy: 0.1301 - val_loss: 6.4471\n",
            "Epoch 4/30\n",
            "\u001b[1m1633/1633\u001b[0m \u001b[32m━━━━━━━━━━━━━━━━━━━━\u001b[0m\u001b[37m\u001b[0m \u001b[1m41s\u001b[0m 22ms/step - accuracy: 0.1661 - loss: 4.6156 - val_accuracy: 0.1354 - val_loss: 6.6137\n",
            "Epoch 5/30\n",
            "\u001b[1m1633/1633\u001b[0m \u001b[32m━━━━━━━━━━━━━━━━━━━━\u001b[0m\u001b[37m\u001b[0m \u001b[1m42s\u001b[0m 22ms/step - accuracy: 0.1775 - loss: 4.4489 - val_accuracy: 0.1373 - val_loss: 6.8321\n",
            "Epoch 6/30\n",
            "\u001b[1m1633/1633\u001b[0m \u001b[32m━━━━━━━━━━━━━━━━━━━━\u001b[0m\u001b[37m\u001b[0m \u001b[1m35s\u001b[0m 22ms/step - accuracy: 0.1837 - loss: 4.3387 - val_accuracy: 0.1407 - val_loss: 6.8617\n"
          ]
        }
      ]
    },
    {
      "cell_type": "markdown",
      "metadata": {
        "id": "fWDDK6PhZjly"
      },
      "source": [
        "# Save Models (Weights and biases)"
      ]
    },
    {
      "cell_type": "code",
      "execution_count": null,
      "metadata": {
        "execution": {
          "iopub.execute_input": "2024-04-11T07:17:23.074643Z",
          "iopub.status.busy": "2024-04-11T07:17:23.074319Z",
          "iopub.status.idle": "2024-04-11T07:17:23.216893Z",
          "shell.execute_reply": "2024-04-11T07:17:23.215911Z",
          "shell.execute_reply.started": "2024-04-11T07:17:23.074617Z"
        },
        "id": "9f60d9QiZjly"
      },
      "outputs": [],
      "source": [
        "# Save model architecture as JSON file\n",
        "from tensorflow.keras.models import model_from_json\n",
        "\n",
        "model_json = model.to_json()\n",
        "with open(\"lstm_model.json\", \"w\") as json_file:\n",
        "    json_file.write(model_json)"
      ]
    },
    {
      "cell_type": "code",
      "execution_count": null,
      "metadata": {
        "colab": {
          "base_uri": "https://localhost:8080/"
        },
        "id": "ozFyVdfZZjly",
        "outputId": "244cb591-eae6-4b4e-99c9-468864d42850"
      },
      "outputs": [
        {
          "output_type": "stream",
          "name": "stdout",
          "text": [
            "Model architecture loaded successfully from JSON file.\n"
          ]
        }
      ],
      "source": [
        "# Load model architecture from JSON file\n",
        "from tensorflow.keras.models import model_from_json\n",
        "\n",
        "with open(\"lstm_model.json\", \"r\") as json_file:\n",
        "    loaded_model_json = json_file.read()\n",
        "\n",
        "# Create model from loaded architecture\n",
        "loaded_model = model_from_json(loaded_model_json)\n",
        "\n",
        "print(\"Model architecture loaded successfully from JSON file.\")"
      ]
    },
    {
      "cell_type": "code",
      "execution_count": null,
      "metadata": {
        "execution": {
          "iopub.execute_input": "2024-04-11T06:04:13.104775Z",
          "iopub.status.busy": "2024-04-11T06:04:13.104349Z",
          "iopub.status.idle": "2024-04-11T06:04:13.406339Z",
          "shell.execute_reply": "2024-04-11T06:04:13.404737Z",
          "shell.execute_reply.started": "2024-04-11T06:04:13.104743Z"
        },
        "id": "qrrIN2WAZjly"
      },
      "outputs": [],
      "source": [
        "import matplotlib.pyplot as plt\n",
        "import seaborn as sns\n",
        "from sklearn.metrics import confusion_matrix\n"
      ]
    },
    {
      "cell_type": "code",
      "execution_count": null,
      "metadata": {
        "execution": {
          "iopub.execute_input": "2024-04-11T06:04:14.332289Z",
          "iopub.status.busy": "2024-04-11T06:04:14.331600Z",
          "iopub.status.idle": "2024-04-11T06:04:15.028083Z",
          "shell.execute_reply": "2024-04-11T06:04:15.026976Z",
          "shell.execute_reply.started": "2024-04-11T06:04:14.332254Z"
        },
        "colab": {
          "base_uri": "https://localhost:8080/",
          "height": 927
        },
        "id": "JsNVMrdPZjly",
        "outputId": "6600f9a9-8386-4fb6-83a2-bb2532058ea1"
      },
      "outputs": [
        {
          "output_type": "display_data",
          "data": {
            "text/plain": [
              "<Figure size 640x480 with 1 Axes>"
            ],
            "image/png": "[encoded data removed]"
          },
          "metadata": {}
        },
        {
          "output_type": "display_data",
          "data": {
            "text/plain": [
              "<Figure size 640x480 with 1 Axes>"
            ],
            "image/png": "[encoded data removed]"
          },
          "metadata": {}
        }
      ],
      "source": [
        "\n",
        "# Plot Loss\n",
        "plt.plot(history.history['loss'], label='Training Loss')\n",
        "plt.plot(history.history['val_loss'], label='Validation Loss')\n",
        "plt.title('Training and Validation Loss')\n",
        "plt.xlabel('Epochs')\n",
        "plt.ylabel('Loss')\n",
        "plt.legend()\n",
        "plt.show()\n",
        "\n",
        "# Plot Accuracy\n",
        "plt.plot(history.history['accuracy'], label='Training Accuracy')\n",
        "plt.plot(history.history['val_accuracy'], label='Validation Accuracy')\n",
        "plt.title('Training and Validation Accuracy')\n",
        "plt.xlabel('Epochs')\n",
        "plt.ylabel('Accuracy')\n",
        "plt.legend()\n",
        "plt.show()"
      ]
    },
    {
      "cell_type": "markdown",
      "metadata": {
        "id": "2AMrtDseZjlz"
      },
      "source": [
        "# Inferences"
      ]
    },
    {
      "cell_type": "code",
      "execution_count": null,
      "metadata": {
        "execution": {
          "iopub.execute_input": "2024-04-11T06:15:08.096062Z",
          "iopub.status.busy": "2024-04-11T06:15:08.095068Z",
          "iopub.status.idle": "2024-04-11T06:15:08.103261Z",
          "shell.execute_reply": "2024-04-11T06:15:08.102149Z",
          "shell.execute_reply.started": "2024-04-11T06:15:08.096025Z"
        },
        "id": "oUt0uMNMZjlz"
      },
      "outputs": [],
      "source": [
        "def predict_top_five_words(model, tokenizer, seed_text):\n",
        "    token_list = tokenizer.texts_to_sequences([seed_text])[0]\n",
        "    token_list = pad_sequences([token_list], maxlen=max_sequence_len-1, padding='pre')\n",
        "    predicted = model.predict(token_list, verbose=0)\n",
        "    top_five_indexes = np.argsort(predicted[0])[::-1][:5]\n",
        "    top_five_words = []\n",
        "    for index in top_five_indexes:\n",
        "        for word, idx in tokenizer.word_index.items():\n",
        "            if idx == index:\n",
        "                top_five_words.append(word)\n",
        "                break\n",
        "    return top_five_words\n"
      ]
    },
    {
      "cell_type": "code",
      "source": [
        "# Import necessary libraries\n",
        "from IPython.display import display, HTML\n",
        "import ipywidgets as widgets\n",
        "from google.colab import output\n",
        "import numpy as np\n",
        "from tensorflow.keras.preprocessing.sequence import pad_sequences\n",
        "\n",
        "# Set up the prediction function\n",
        "def predict_top_five_words(seed_text, model, tokenizer, max_sequence_len):\n",
        "    token_list = tokenizer.texts_to_sequences([seed_text])[0]\n",
        "    token_list = pad_sequences([token_list], maxlen=max_sequence_len-1, padding='pre')\n",
        "    predicted = model.predict(token_list, verbose=0)\n",
        "    top_five_indexes = np.argsort(predicted[0])[::-1][:5]\n",
        "    top_five_words = []\n",
        "    for index in top_five_indexes:\n",
        "        for word, idx in tokenizer.word_index.items():\n",
        "            if idx == index:\n",
        "                top_five_words.append(word)\n",
        "                break\n",
        "    return top_five_words\n",
        "\n",
        "# Create the interactive app\n",
        "def create_sentence_completion_app(model, tokenizer, max_sequence_len):\n",
        "    # Create input widget\n",
        "    text_input = widgets.Text(\n",
        "        value='',\n",
        "        placeholder='Type a starting phrase (e.g., \"She is my\")',\n",
        "        description='Input:',\n",
        "        layout=widgets.Layout(width='500px')\n",
        "    )\n",
        "\n",
        "    # Create button\n",
        "    button = widgets.Button(\n",
        "        description='Predict',\n",
        "        button_style='primary',\n",
        "        layout=widgets.Layout(width='100px')\n",
        "    )\n",
        "\n",
        "    # Create output area\n",
        "    output_area = widgets.Output()\n",
        "\n",
        "    # Define button click action\n",
        "    def on_button_click(b):\n",
        "        seed_text = text_input.value\n",
        "        output_area.clear_output()\n",
        "\n",
        "        if len(seed_text.split()) < 2:\n",
        "            with output_area:\n",
        "                display(HTML('<div style=\"color: #e74c3c; padding: 10px;\">Please enter at least two words.</div>'))\n",
        "            return\n",
        "\n",
        "        with output_area:\n",
        "            display(HTML('<div style=\"text-align: center; padding: 20px;\">Loading predictions...</div>'))\n",
        "\n",
        "        # Get predictions\n",
        "        try:\n",
        "            top_five = predict_top_five_words(seed_text, model, tokenizer, max_sequence_len)\n",
        "\n",
        "            # Display results\n",
        "            output_area.clear_output()\n",
        "            with output_area:\n",
        "                html_content = f\"\"\"\n",
        "                <div style=\"background-color: #f5f5f5; border-radius: 10px; padding: 20px; margin-top: 20px;\">\n",
        "                    <h3 style=\"color: #2c3e50; margin-bottom: 15px;\">Top 5 Predictions for: \"{seed_text}\"</h3>\n",
        "                    <div style=\"display: flex; flex-direction: column; gap: 10px;\">\n",
        "                \"\"\"\n",
        "\n",
        "                for i, word in enumerate(top_five, 1):\n",
        "                    html_content += f\"\"\"\n",
        "                    <div style=\"background-color: white; padding: 10px 15px; border-radius: 5px; border-left: 5px solid #3498db; transition: all 0.3s;\"\n",
        "                         onmouseover=\"this.style.transform='translateX(5px)'; this.style.boxShadow='0 5px 15px rgba(0,0,0,0.1)';\"\n",
        "                         onmouseout=\"this.style.transform='translateX(0)'; this.style.boxShadow='none';\">\n",
        "                        <span style=\"font-weight: bold; color: #3498db; margin-right: 10px;\">{i}.</span>\n",
        "                        <span>{seed_text} <span style=\"font-weight: bold;\">{word}</span></span>\n",
        "                    </div>\n",
        "                    \"\"\"\n",
        "\n",
        "                html_content += \"\"\"\n",
        "                    </div>\n",
        "                </div>\n",
        "                \"\"\"\n",
        "\n",
        "                display(HTML(html_content))\n",
        "        except Exception as e:\n",
        "            output_area.clear_output()\n",
        "            with output_area:\n",
        "                display(HTML(f'<div style=\"color: #e74c3c; padding: 10px;\">Error: {str(e)}</div>'))\n",
        "\n",
        "    # Connect button to function\n",
        "    button.on_click(on_button_click)\n",
        "\n",
        "    # Create app layout\n",
        "    app_title = widgets.HTML(\"<h1 style='color: #3498db; margin-bottom: 20px;'>Sentence Autocompletion App</h1>\")\n",
        "    app_description = widgets.HTML(\"<p style='margin-bottom: 20px;'>Enter a phrase and click 'Predict' to get the top 5 predictions for the next word.</p>\")\n",
        "\n",
        "    app = widgets.VBox([\n",
        "        app_title,\n",
        "        app_description,\n",
        "        widgets.HBox([text_input, button]),\n",
        "        output_area\n",
        "    ], layout=widgets.Layout(\n",
        "        width='800px',\n",
        "        border='1px solid #ddd',\n",
        "        padding='20px',\n",
        "        border_radius='10px',\n",
        "        margin='0 auto'\n",
        "    ))\n",
        "\n",
        "    return app\n",
        "\n",
        "display(create_sentence_completion_app(loaded_model, tokenizer, max_sequence_len))"
      ],
      "metadata": {
        "colab": {
          "base_uri": "https://localhost:8080/",
          "height": 556,
          "referenced_widgets": [
            "57be9a1c2e47411c8ac87b3da92ecd82",
            "f1a1c393cd154244bf2aacfb5ac836e6",
            "341382386df44a4480cac757bfc7f41a",
            "f55ad56fc6144c24ac4f3a018b27bca8",
            "c4a33851a778499fa72705fa18d7e93d",
            "7f2ceb67a33d440785d51dea57d610c4",
            "133647811d5746dda1047455161815f8",
            "d9d23be12d3d45548b8c32617da1bace",
            "b2d387130d784c0dafe9c38e7ad0b013",
            "b4d3d7b587dd4032b008950f625c3454",
            "78fa14beced24fc0b2ce0bf207e7b8a1",
            "781fdff55bee4f9f9c7a892fa067841d",
            "59665a03baa442a38e3becf73fb2eea6",
            "7b5db16e1ea646e28ab686e1b8aef793",
            "4b299ac23c664cd4b3bcb3a3b32d263a",
            "f03dce17c03047efbbe4f3af58099d81",
            "1e1136975e9b4dd7b28980144f6cb0bf",
            "bbcd1305f35f495c9fe9b94df5b1ce02"
          ]
        },
        "id": "QBuA04Sckfvi",
        "outputId": "ee540458-d227-4b97-a963-9e475262e9c8"
      },
      "execution_count": null,
      "outputs": [
        {
          "output_type": "display_data",
          "data": {
            "text/plain": [
              "VBox(children=(HTML(value=\"<h1 style='color: #3498db; margin-bottom: 20px;'>Sentence Autocompletion App</h1>\")…"
            ],
            "application/vnd.jupyter.widget-view+json": {
              "version_major": 2,
              "version_minor": 0,
              "model_id": "57be9a1c2e47411c8ac87b3da92ecd82"
            }
          },
          "metadata": {}
        }
      ]
    },
    {
      "cell_type": "code",
      "source": [],
      "metadata": {
        "id": "LTVZDpe76GJ4"
      },
      "execution_count": null,
      "outputs": []
    }
  ],
  "metadata": {
    "kaggle": {
      "accelerator": "gpu",
      "dataSources": [
        {
          "datasetId": 4758440,
          "sourceId": 8065627,
          "sourceType": "datasetVersion"
        },
        {
          "datasetId": 4758543,
          "sourceId": 8065761,
          "sourceType": "datasetVersion"
        },
        {
          "datasetId": 4759977,
          "sourceId": 8067728,
          "sourceType": "datasetVersion"
        }
      ],
      "dockerImageVersionId": 30674,
      "isGpuEnabled": true,
      "isInternetEnabled": true,
      "language": "python",
      "sourceType": "notebook"
    },
    "kernelspec": {
      "display_name": "Python 3",
      "name": "python3"
    },
    "language_info": {
      "codemirror_mode": {
        "name": "ipython",
        "version": 3
      },
      "file_extension": ".py",
      "mimetype": "text/x-python",
      "name": "python",
      "nbconvert_exporter": "python",
      "pygments_lexer": "ipython3",
      "version": "3.9.12"
    },
    "colab": {
      "provenance": [],
      "gpuType": "T4"
    },
    "accelerator": "GPU",
    "widgets": {
      "application/vnd.jupyter.widget-state+json": {
        "57be9a1c2e47411c8ac87b3da92ecd82": {
          "model_module": "@jupyter-widgets/controls",
          "model_name": "VBoxModel",
          "model_module_version": "1.5.0",
          "state": {
            "_dom_classes": [],
            "_model_module": "@jupyter-widgets/controls",
            "_model_module_version": "1.5.0",
            "_model_name": "VBoxModel",
            "_view_count": null,
            "_view_module": "@jupyter-widgets/controls",
            "_view_module_version": "1.5.0",
            "_view_name": "VBoxView",
            "box_style": "",
            "children": [
              "IPY_MODEL_f1a1c393cd154244bf2aacfb5ac836e6",
              "IPY_MODEL_341382386df44a4480cac757bfc7f41a",
              "IPY_MODEL_f55ad56fc6144c24ac4f3a018b27bca8",
              "IPY_MODEL_c4a33851a778499fa72705fa18d7e93d"
            ],
            "layout": "IPY_MODEL_7f2ceb67a33d440785d51dea57d610c4"
          }
        },
        "f1a1c393cd154244bf2aacfb5ac836e6": {
          "model_module": "@jupyter-widgets/controls",
          "model_name": "HTMLModel",
          "model_module_version": "1.5.0",
          "state": {
            "_dom_classes": [],
            "_model_module": "@jupyter-widgets/controls",
            "_model_module_version": "1.5.0",
            "_model_name": "HTMLModel",
            "_view_count": null,
            "_view_module": "@jupyter-widgets/controls",
            "_view_module_version": "1.5.0",
            "_view_name": "HTMLView",
            "description": "",
            "description_tooltip": null,
            "layout": "IPY_MODEL_133647811d5746dda1047455161815f8",
            "placeholder": "​",
            "style": "IPY_MODEL_d9d23be12d3d45548b8c32617da1bace",
            "value": "<h1 style='color: #3498db; margin-bottom: 20px;'>Sentence Autocompletion App</h1>"
          }
        },
        "341382386df44a4480cac757bfc7f41a": {
          "model_module": "@jupyter-widgets/controls",
          "model_name": "HTMLModel",
          "model_module_version": "1.5.0",
          "state": {
            "_dom_classes": [],
            "_model_module": "@jupyter-widgets/controls",
            "_model_module_version": "1.5.0",
            "_model_name": "HTMLModel",
            "_view_count": null,
            "_view_module": "@jupyter-widgets/controls",
            "_view_module_version": "1.5.0",
            "_view_name": "HTMLView",
            "description": "",
            "description_tooltip": null,
            "layout": "IPY_MODEL_b2d387130d784c0dafe9c38e7ad0b013",
            "placeholder": "​",
            "style": "IPY_MODEL_b4d3d7b587dd4032b008950f625c3454",
            "value": "<p style='margin-bottom: 20px;'>Enter a phrase and click 'Predict' to get the top 5 predictions for the next word.</p>"
          }
        },
        "f55ad56fc6144c24ac4f3a018b27bca8": {
          "model_module": "@jupyter-widgets/controls",
          "model_name": "HBoxModel",
          "model_module_version": "1.5.0",
          "state": {
            "_dom_classes": [],
            "_model_module": "@jupyter-widgets/controls",
            "_model_module_version": "1.5.0",
            "_model_name": "HBoxModel",
            "_view_count": null,
            "_view_module": "@jupyter-widgets/controls",
            "_view_module_version": "1.5.0",
            "_view_name": "HBoxView",
            "box_style": "",
            "children": [
              "IPY_MODEL_78fa14beced24fc0b2ce0bf207e7b8a1",
              "IPY_MODEL_781fdff55bee4f9f9c7a892fa067841d"
            ],
            "layout": "IPY_MODEL_59665a03baa442a38e3becf73fb2eea6"
          }
        },
        "c4a33851a778499fa72705fa18d7e93d": {
          "model_module": "@jupyter-widgets/output",
          "model_name": "OutputModel",
          "model_module_version": "1.0.0",
          "state": {
            "_dom_classes": [],
            "_model_module": "@jupyter-widgets/output",
            "_model_module_version": "1.0.0",
            "_model_name": "OutputModel",
            "_view_count": null,
            "_view_module": "@jupyter-widgets/output",
            "_view_module_version": "1.0.0",
            "_view_name": "OutputView",
            "layout": "IPY_MODEL_bbcd1305f35f495c9fe9b94df5b1ce02",
            "msg_id": "",
            "outputs": [
              {
                "output_type": "display_data",
                "data": {
                  "text/plain": "<IPython.core.display.HTML object>",
                  "text/html": "\n                <div style=\"background-color: #f5f5f5; border-radius: 10px; padding: 20px; margin-top: 20px;\">\n                    <h3 style=\"color: #2c3e50; margin-bottom: 15px;\">Top 5 Predictions for: \"how are\"</h3>\n                    <div style=\"display: flex; flex-direction: column; gap: 10px;\">\n                \n                    <div style=\"background-color: white; padding: 10px 15px; border-radius: 5px; border-left: 5px solid #3498db; transition: all 0.3s;\"\n                         onmouseover=\"this.style.transform='translateX(5px)'; this.style.boxShadow='0 5px 15px rgba(0,0,0,0.1)';\"\n                         onmouseout=\"this.style.transform='translateX(0)'; this.style.boxShadow='none';\">\n                        <span style=\"font-weight: bold; color: #3498db; margin-right: 10px;\">1.</span>\n                        <span>how are <span style=\"font-weight: bold;\">ladder</span></span>\n                    </div>\n                    \n                    <div style=\"background-color: white; padding: 10px 15px; border-radius: 5px; border-left: 5px solid #3498db; transition: all 0.3s;\"\n                         onmouseover=\"this.style.transform='translateX(5px)'; this.style.boxShadow='0 5px 15px rgba(0,0,0,0.1)';\"\n                         onmouseout=\"this.style.transform='translateX(0)'; this.style.boxShadow='none';\">\n                        <span style=\"font-weight: bold; color: #3498db; margin-right: 10px;\">2.</span>\n                        <span>how are <span style=\"font-weight: bold;\">restoratives</span></span>\n                    </div>\n                    \n                    <div style=\"background-color: white; padding: 10px 15px; border-radius: 5px; border-left: 5px solid #3498db; transition: all 0.3s;\"\n                         onmouseover=\"this.style.transform='translateX(5px)'; this.style.boxShadow='0 5px 15px rgba(0,0,0,0.1)';\"\n                         onmouseout=\"this.style.transform='translateX(0)'; this.style.boxShadow='none';\">\n                        <span style=\"font-weight: bold; color: #3498db; margin-right: 10px;\">3.</span>\n                        <span>how are <span style=\"font-weight: bold;\">gasolene</span></span>\n                    </div>\n                    \n                    <div style=\"background-color: white; padding: 10px 15px; border-radius: 5px; border-left: 5px solid #3498db; transition: all 0.3s;\"\n                         onmouseover=\"this.style.transform='translateX(5px)'; this.style.boxShadow='0 5px 15px rgba(0,0,0,0.1)';\"\n                         onmouseout=\"this.style.transform='translateX(0)'; this.style.boxShadow='none';\">\n                        <span style=\"font-weight: bold; color: #3498db; margin-right: 10px;\">4.</span>\n                        <span>how are <span style=\"font-weight: bold;\">wrong</span></span>\n                    </div>\n                    \n                    <div style=\"background-color: white; padding: 10px 15px; border-radius: 5px; border-left: 5px solid #3498db; transition: all 0.3s;\"\n                         onmouseover=\"this.style.transform='translateX(5px)'; this.style.boxShadow='0 5px 15px rgba(0,0,0,0.1)';\"\n                         onmouseout=\"this.style.transform='translateX(0)'; this.style.boxShadow='none';\">\n                        <span style=\"font-weight: bold; color: #3498db; margin-right: 10px;\">5.</span>\n                        <span>how are <span style=\"font-weight: bold;\">heartless</span></span>\n                    </div>\n                    \n                    </div>\n                </div>\n                "
                },
                "metadata": {}
              }
            ]
          }
        },
        "7f2ceb67a33d440785d51dea57d610c4": {
          "model_module": "@jupyter-widgets/base",
          "model_name": "LayoutModel",
          "model_module_version": "1.2.0",
          "state": {
            "_model_module": "@jupyter-widgets/base",
            "_model_module_version": "1.2.0",
            "_model_name": "LayoutModel",
            "_view_count": null,
            "_view_module": "@jupyter-widgets/base",
            "_view_module_version": "1.2.0",
            "_view_name": "LayoutView",
            "align_content": null,
            "align_items": null,
            "align_self": null,
            "border": "1px solid #ddd",
            "bottom": null,
            "display": null,
            "flex": null,
            "flex_flow": null,
            "grid_area": null,
            "grid_auto_columns": null,
            "grid_auto_flow": null,
            "grid_auto_rows": null,
            "grid_column": null,
            "grid_gap": null,
            "grid_row": null,
            "grid_template_areas": null,
            "grid_template_columns": null,
            "grid_template_rows": null,
            "height": null,
            "justify_content": null,
            "justify_items": null,
            "left": null,
            "margin": "0 auto",
            "max_height": null,
            "max_width": null,
            "min_height": null,
            "min_width": null,
            "object_fit": null,
            "object_position": null,
            "order": null,
            "overflow": null,
            "overflow_x": null,
            "overflow_y": null,
            "padding": "20px",
            "right": null,
            "top": null,
            "visibility": null,
            "width": "800px"
          }
        },
        "133647811d5746dda1047455161815f8": {
          "model_module": "@jupyter-widgets/base",
          "model_name": "LayoutModel",
          "model_module_version": "1.2.0",
          "state": {
            "_model_module": "@jupyter-widgets/base",
            "_model_module_version": "1.2.0",
            "_model_name": "LayoutModel",
            "_view_count": null,
            "_view_module": "@jupyter-widgets/base",
            "_view_module_version": "1.2.0",
            "_view_name": "LayoutView",
            "align_content": null,
            "align_items": null,
            "align_self": null,
            "border": null,
            "bottom": null,
            "display": null,
            "flex": null,
            "flex_flow": null,
            "grid_area": null,
            "grid_auto_columns": null,
            "grid_auto_flow": null,
            "grid_auto_rows": null,
            "grid_column": null,
            "grid_gap": null,
            "grid_row": null,
            "grid_template_areas": null,
            "grid_template_columns": null,
            "grid_template_rows": null,
            "height": null,
            "justify_content": null,
            "justify_items": null,
            "left": null,
            "margin": null,
            "max_height": null,
            "max_width": null,
            "min_height": null,
            "min_width": null,
            "object_fit": null,
            "object_position": null,
            "order": null,
            "overflow": null,
            "overflow_x": null,
            "overflow_y": null,
            "padding": null,
            "right": null,
            "top": null,
            "visibility": null,
            "width": null
          }
        },
        "d9d23be12d3d45548b8c32617da1bace": {
          "model_module": "@jupyter-widgets/controls",
          "model_name": "DescriptionStyleModel",
          "model_module_version": "1.5.0",
          "state": {
            "_model_module": "@jupyter-widgets/controls",
            "_model_module_version": "1.5.0",
            "_model_name": "DescriptionStyleModel",
            "_view_count": null,
            "_view_module": "@jupyter-widgets/base",
            "_view_module_version": "1.2.0",
            "_view_name": "StyleView",
            "description_width": ""
          }
        },
        "b2d387130d784c0dafe9c38e7ad0b013": {
          "model_module": "@jupyter-widgets/base",
          "model_name": "LayoutModel",
          "model_module_version": "1.2.0",
          "state": {
            "_model_module": "@jupyter-widgets/base",
            "_model_module_version": "1.2.0",
            "_model_name": "LayoutModel",
            "_view_count": null,
            "_view_module": "@jupyter-widgets/base",
            "_view_module_version": "1.2.0",
            "_view_name": "LayoutView",
            "align_content": null,
            "align_items": null,
            "align_self": null,
            "border": null,
            "bottom": null,
            "display": null,
            "flex": null,
            "flex_flow": null,
            "grid_area": null,
            "grid_auto_columns": null,
            "grid_auto_flow": null,
            "grid_auto_rows": null,
            "grid_column": null,
            "grid_gap": null,
            "grid_row": null,
            "grid_template_areas": null,
            "grid_template_columns": null,
            "grid_template_rows": null,
            "height": null,
            "justify_content": null,
            "justify_items": null,
            "left": null,
            "margin": null,
            "max_height": null,
            "max_width": null,
            "min_height": null,
            "min_width": null,
            "object_fit": null,
            "object_position": null,
            "order": null,
            "overflow": null,
            "overflow_x": null,
            "overflow_y": null,
            "padding": null,
            "right": null,
            "top": null,
            "visibility": null,
            "width": null
          }
        },
        "b4d3d7b587dd4032b008950f625c3454": {
          "model_module": "@jupyter-widgets/controls",
          "model_name": "DescriptionStyleModel",
          "model_module_version": "1.5.0",
          "state": {
            "_model_module": "@jupyter-widgets/controls",
            "_model_module_version": "1.5.0",
            "_model_name": "DescriptionStyleModel",
            "_view_count": null,
            "_view_module": "@jupyter-widgets/base",
            "_view_module_version": "1.2.0",
            "_view_name": "StyleView",
            "description_width": ""
          }
        },
        "78fa14beced24fc0b2ce0bf207e7b8a1": {
          "model_module": "@jupyter-widgets/controls",
          "model_name": "TextModel",
          "model_module_version": "1.5.0",
          "state": {
            "_dom_classes": [],
            "_model_module": "@jupyter-widgets/controls",
            "_model_module_version": "1.5.0",
            "_model_name": "TextModel",
            "_view_count": null,
            "_view_module": "@jupyter-widgets/controls",
            "_view_module_version": "1.5.0",
            "_view_name": "TextView",
            "continuous_update": true,
            "description": "Input:",
            "description_tooltip": null,
            "disabled": false,
            "layout": "IPY_MODEL_7b5db16e1ea646e28ab686e1b8aef793",
            "placeholder": "Type a starting phrase (e.g., \"She is my\")",
            "style": "IPY_MODEL_4b299ac23c664cd4b3bcb3a3b32d263a",
            "value": "how are"
          }
        },
        "781fdff55bee4f9f9c7a892fa067841d": {
          "model_module": "@jupyter-widgets/controls",
          "model_name": "ButtonModel",
          "model_module_version": "1.5.0",
          "state": {
            "_dom_classes": [],
            "_model_module": "@jupyter-widgets/controls",
            "_model_module_version": "1.5.0",
            "_model_name": "ButtonModel",
            "_view_count": null,
            "_view_module": "@jupyter-widgets/controls",
            "_view_module_version": "1.5.0",
            "_view_name": "ButtonView",
            "button_style": "primary",
            "description": "Predict",
            "disabled": false,
            "icon": "",
            "layout": "IPY_MODEL_f03dce17c03047efbbe4f3af58099d81",
            "style": "IPY_MODEL_1e1136975e9b4dd7b28980144f6cb0bf",
            "tooltip": ""
          }
        },
        "59665a03baa442a38e3becf73fb2eea6": {
          "model_module": "@jupyter-widgets/base",
          "model_name": "LayoutModel",
          "model_module_version": "1.2.0",
          "state": {
            "_model_module": "@jupyter-widgets/base",
            "_model_module_version": "1.2.0",
            "_model_name": "LayoutModel",
            "_view_count": null,
            "_view_module": "@jupyter-widgets/base",
            "_view_module_version": "1.2.0",
            "_view_name": "LayoutView",
            "align_content": null,
            "align_items": null,
            "align_self": null,
            "border": null,
            "bottom": null,
            "display": null,
            "flex": null,
            "flex_flow": null,
            "grid_area": null,
            "grid_auto_columns": null,
            "grid_auto_flow": null,
            "grid_auto_rows": null,
            "grid_column": null,
            "grid_gap": null,
            "grid_row": null,
            "grid_template_areas": null,
            "grid_template_columns": null,
            "grid_template_rows": null,
            "height": null,
            "justify_content": null,
            "justify_items": null,
            "left": null,
            "margin": null,
            "max_height": null,
            "max_width": null,
            "min_height": null,
            "min_width": null,
            "object_fit": null,
            "object_position": null,
            "order": null,
            "overflow": null,
            "overflow_x": null,
            "overflow_y": null,
            "padding": null,
            "right": null,
            "top": null,
            "visibility": null,
            "width": null
          }
        },
        "7b5db16e1ea646e28ab686e1b8aef793": {
          "model_module": "@jupyter-widgets/base",
          "model_name": "LayoutModel",
          "model_module_version": "1.2.0",
          "state": {
            "_model_module": "@jupyter-widgets/base",
            "_model_module_version": "1.2.0",
            "_model_name": "LayoutModel",
            "_view_count": null,
            "_view_module": "@jupyter-widgets/base",
            "_view_module_version": "1.2.0",
            "_view_name": "LayoutView",
            "align_content": null,
            "align_items": null,
            "align_self": null,
            "border": null,
            "bottom": null,
            "display": null,
            "flex": null,
            "flex_flow": null,
            "grid_area": null,
            "grid_auto_columns": null,
            "grid_auto_flow": null,
            "grid_auto_rows": null,
            "grid_column": null,
            "grid_gap": null,
            "grid_row": null,
            "grid_template_areas": null,
            "grid_template_columns": null,
            "grid_template_rows": null,
            "height": null,
            "justify_content": null,
            "justify_items": null,
            "left": null,
            "margin": null,
            "max_height": null,
            "max_width": null,
            "min_height": null,
            "min_width": null,
            "object_fit": null,
            "object_position": null,
            "order": null,
            "overflow": null,
            "overflow_x": null,
            "overflow_y": null,
            "padding": null,
            "right": null,
            "top": null,
            "visibility": null,
            "width": "500px"
          }
        },
        "4b299ac23c664cd4b3bcb3a3b32d263a": {
          "model_module": "@jupyter-widgets/controls",
          "model_name": "DescriptionStyleModel",
          "model_module_version": "1.5.0",
          "state": {
            "_model_module": "@jupyter-widgets/controls",
            "_model_module_version": "1.5.0",
            "_model_name": "DescriptionStyleModel",
            "_view_count": null,
            "_view_module": "@jupyter-widgets/base",
            "_view_module_version": "1.2.0",
            "_view_name": "StyleView",
            "description_width": ""
          }
        },
        "f03dce17c03047efbbe4f3af58099d81": {
          "model_module": "@jupyter-widgets/base",
          "model_name": "LayoutModel",
          "model_module_version": "1.2.0",
          "state": {
            "_model_module": "@jupyter-widgets/base",
            "_model_module_version": "1.2.0",
            "_model_name": "LayoutModel",
            "_view_count": null,
            "_view_module": "@jupyter-widgets/base",
            "_view_module_version": "1.2.0",
            "_view_name": "LayoutView",
            "align_content": null,
            "align_items": null,
            "align_self": null,
            "border": null,
            "bottom": null,
            "display": null,
            "flex": null,
            "flex_flow": null,
            "grid_area": null,
            "grid_auto_columns": null,
            "grid_auto_flow": null,
            "grid_auto_rows": null,
            "grid_column": null,
            "grid_gap": null,
            "grid_row": null,
            "grid_template_areas": null,
            "grid_template_columns": null,
            "grid_template_rows": null,
            "height": null,
            "justify_content": null,
            "justify_items": null,
            "left": null,
            "margin": null,
            "max_height": null,
            "max_width": null,
            "min_height": null,
            "min_width": null,
            "object_fit": null,
            "object_position": null,
            "order": null,
            "overflow": null,
            "overflow_x": null,
            "overflow_y": null,
            "padding": null,
            "right": null,
            "top": null,
            "visibility": null,
            "width": "100px"
          }
        },
        "1e1136975e9b4dd7b28980144f6cb0bf": {
          "model_module": "@jupyter-widgets/controls",
          "model_name": "ButtonStyleModel",
          "model_module_version": "1.5.0",
          "state": {
            "_model_module": "@jupyter-widgets/controls",
            "_model_module_version": "1.5.0",
            "_model_name": "ButtonStyleModel",
            "_view_count": null,
            "_view_module": "@jupyter-widgets/base",
            "_view_module_version": "1.2.0",
            "_view_name": "StyleView",
            "button_color": null,
            "font_weight": ""
          }
        },
        "bbcd1305f35f495c9fe9b94df5b1ce02": {
          "model_module": "@jupyter-widgets/base",
          "model_name": "LayoutModel",
          "model_module_version": "1.2.0",
          "state": {
            "_model_module": "@jupyter-widgets/base",
            "_model_module_version": "1.2.0",
            "_model_name": "LayoutModel",
            "_view_count": null,
            "_view_module": "@jupyter-widgets/base",
            "_view_module_version": "1.2.0",
            "_view_name": "LayoutView",
            "align_content": null,
            "align_items": null,
            "align_self": null,
            "border": null,
            "bottom": null,
            "display": null,
            "flex": null,
            "flex_flow": null,
            "grid_area": null,
            "grid_auto_columns": null,
            "grid_auto_flow": null,
            "grid_auto_rows": null,
            "grid_column": null,
            "grid_gap": null,
            "grid_row": null,
            "grid_template_areas": null,
            "grid_template_columns": null,
            "grid_template_rows": null,
            "height": null,
            "justify_content": null,
            "justify_items": null,
            "left": null,
            "margin": null,
            "max_height": null,
            "max_width": null,
            "min_height": null,
            "min_width": null,
            "object_fit": null,
            "object_position": null,
            "order": null,
            "overflow": null,
            "overflow_x": null,
            "overflow_y": null,
            "padding": null,
            "right": null,
            "top": null,
            "visibility": null,
            "width": null
          }
        }
      }
    }
  },
  "nbformat": 4,
  "nbformat_minor": 0
}